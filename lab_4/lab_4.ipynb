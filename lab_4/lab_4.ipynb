{
 "cells": [
  {
   "cell_type": "code",
   "execution_count": 4,
   "metadata": {},
   "outputs": [],
   "source": [
    "import os\n",
    "from urllib.request import urlopen, Request\n",
    "from urllib.error import HTTPError\n",
    "from zipfile import ZipFile, BadZipFile\n",
    "from datetime import datetime"
   ]
  },
  {
   "cell_type": "code",
   "execution_count": 5,
   "metadata": {},
   "outputs": [],
   "source": [
    "class Data:\n",
    "    def __init__(self, data_directory=\"data\", need_update=\"False\"):\n",
    "        self.data_directory = data_directory\n",
    "        self.need_update = need_update\n",
    "        self.csv_filepath = \"\"\n",
    "\n",
    "    def Download(self):\n",
    "        try:\n",
    "            if not os.path.isdir(self.data_directory):\n",
    "                print(f\"Directory '{self.data_directory}' does not exist. Creating.\")\n",
    "                os.mkdir(self.data_directory)\n",
    "            \n",
    "            \n",
    "            data_url = \"https://archive.ics.uci.edu/static/public/235/individual+household+electric+power+consumption.zip\"\n",
    "            request = Request(data_url, method=\"GET\")\n",
    "            responce = urlopen(request)\n",
    "\n",
    "            if responce.status != 200:\n",
    "                raise RuntimeError(\"Server respond with not 200\")\n",
    "            \n",
    "            raw_data = responce.read()\n",
    "            zip_data = ZipFile(raw_data)\n",
    "\n",
    "            if len(zip_data.filelist) != 1:\n",
    "                raise RuntimeError(\"One file in zip archive exptected\")\n",
    "\n",
    "            zip_data_file = zip_data.open(zip_data.filelist[0])\n",
    "\n",
    "            curr_datetime = datetime.now().strftime(\"%Y%m%d%H%M%S\")\n",
    "            data_filename = \"household_power_consumption\"\n",
    "            csv_filename = f\"{data_filename}_{curr_datetime}.csv\"\n",
    "            csv_filepath = os.path.join(self.data_directory, csv_filename)\n",
    "\n",
    "            csv_file = open(csv_filepath, 'wb')\n",
    "            csv_file.write(zip_data_file.read())\n",
    "\n",
    "            csv_file.close()\n",
    "            zip_data_file.close()\n",
    "            zip_data.close()\n",
    "\n",
    "        except HTTPError as e:\n",
    "            print(f\"Error code: {e.code}\")\n",
    "            print(e.read())\n",
    "        except BadZipFile as e:\n",
    "            print(e)\n",
    "        except RuntimeError as e:\n",
    "            print(e)\n"
   ]
  },
  {
   "cell_type": "code",
   "execution_count": 6,
   "metadata": {},
   "outputs": [
    {
     "ename": "AttributeError",
     "evalue": "'bytes' object has no attribute 'seek'",
     "output_type": "error",
     "traceback": [
      "\u001b[0;31m---------------------------------------------------------------------------\u001b[0m",
      "\u001b[0;31mAttributeError\u001b[0m                            Traceback (most recent call last)",
      "Cell \u001b[0;32mIn[6], line 2\u001b[0m\n\u001b[1;32m      1\u001b[0m data \u001b[38;5;241m=\u001b[39m Data()\n\u001b[0;32m----> 2\u001b[0m \u001b[43mdata\u001b[49m\u001b[38;5;241;43m.\u001b[39;49m\u001b[43mDownload\u001b[49m\u001b[43m(\u001b[49m\u001b[43m)\u001b[49m\n",
      "Cell \u001b[0;32mIn[5], line 22\u001b[0m, in \u001b[0;36mData.Download\u001b[0;34m(self)\u001b[0m\n\u001b[1;32m     19\u001b[0m     \u001b[38;5;28;01mraise\u001b[39;00m \u001b[38;5;167;01mRuntimeError\u001b[39;00m(\u001b[38;5;124m\"\u001b[39m\u001b[38;5;124mServer respond with not 200\u001b[39m\u001b[38;5;124m\"\u001b[39m)\n\u001b[1;32m     21\u001b[0m raw_data \u001b[38;5;241m=\u001b[39m responce\u001b[38;5;241m.\u001b[39mread()\n\u001b[0;32m---> 22\u001b[0m zip_data \u001b[38;5;241m=\u001b[39m \u001b[43mZipFile\u001b[49m\u001b[43m(\u001b[49m\u001b[43mraw_data\u001b[49m\u001b[43m)\u001b[49m\n\u001b[1;32m     24\u001b[0m \u001b[38;5;28;01mif\u001b[39;00m \u001b[38;5;28mlen\u001b[39m(zip_data\u001b[38;5;241m.\u001b[39mfilelist) \u001b[38;5;241m!=\u001b[39m \u001b[38;5;241m1\u001b[39m:\n\u001b[1;32m     25\u001b[0m     \u001b[38;5;28;01mraise\u001b[39;00m \u001b[38;5;167;01mRuntimeError\u001b[39;00m(\u001b[38;5;124m\"\u001b[39m\u001b[38;5;124mOne file in zip archive exptected\u001b[39m\u001b[38;5;124m\"\u001b[39m)\n",
      "File \u001b[0;32m/usr/lib/python3.10/zipfile.py:1269\u001b[0m, in \u001b[0;36mZipFile.__init__\u001b[0;34m(self, file, mode, compression, allowZip64, compresslevel, strict_timestamps)\u001b[0m\n\u001b[1;32m   1267\u001b[0m \u001b[38;5;28;01mtry\u001b[39;00m:\n\u001b[1;32m   1268\u001b[0m     \u001b[38;5;28;01mif\u001b[39;00m mode \u001b[38;5;241m==\u001b[39m \u001b[38;5;124m'\u001b[39m\u001b[38;5;124mr\u001b[39m\u001b[38;5;124m'\u001b[39m:\n\u001b[0;32m-> 1269\u001b[0m         \u001b[38;5;28;43mself\u001b[39;49m\u001b[38;5;241;43m.\u001b[39;49m\u001b[43m_RealGetContents\u001b[49m\u001b[43m(\u001b[49m\u001b[43m)\u001b[49m\n\u001b[1;32m   1270\u001b[0m     \u001b[38;5;28;01melif\u001b[39;00m mode \u001b[38;5;129;01min\u001b[39;00m (\u001b[38;5;124m'\u001b[39m\u001b[38;5;124mw\u001b[39m\u001b[38;5;124m'\u001b[39m, \u001b[38;5;124m'\u001b[39m\u001b[38;5;124mx\u001b[39m\u001b[38;5;124m'\u001b[39m):\n\u001b[1;32m   1271\u001b[0m         \u001b[38;5;66;03m# set the modified flag so central directory gets written\u001b[39;00m\n\u001b[1;32m   1272\u001b[0m         \u001b[38;5;66;03m# even if no files are added to the archive\u001b[39;00m\n\u001b[1;32m   1273\u001b[0m         \u001b[38;5;28mself\u001b[39m\u001b[38;5;241m.\u001b[39m_didModify \u001b[38;5;241m=\u001b[39m \u001b[38;5;28;01mTrue\u001b[39;00m\n",
      "File \u001b[0;32m/usr/lib/python3.10/zipfile.py:1332\u001b[0m, in \u001b[0;36mZipFile._RealGetContents\u001b[0;34m(self)\u001b[0m\n\u001b[1;32m   1330\u001b[0m fp \u001b[38;5;241m=\u001b[39m \u001b[38;5;28mself\u001b[39m\u001b[38;5;241m.\u001b[39mfp\n\u001b[1;32m   1331\u001b[0m \u001b[38;5;28;01mtry\u001b[39;00m:\n\u001b[0;32m-> 1332\u001b[0m     endrec \u001b[38;5;241m=\u001b[39m \u001b[43m_EndRecData\u001b[49m\u001b[43m(\u001b[49m\u001b[43mfp\u001b[49m\u001b[43m)\u001b[49m\n\u001b[1;32m   1333\u001b[0m \u001b[38;5;28;01mexcept\u001b[39;00m \u001b[38;5;167;01mOSError\u001b[39;00m:\n\u001b[1;32m   1334\u001b[0m     \u001b[38;5;28;01mraise\u001b[39;00m BadZipFile(\u001b[38;5;124m\"\u001b[39m\u001b[38;5;124mFile is not a zip file\u001b[39m\u001b[38;5;124m\"\u001b[39m)\n",
      "File \u001b[0;32m/usr/lib/python3.10/zipfile.py:266\u001b[0m, in \u001b[0;36m_EndRecData\u001b[0;34m(fpin)\u001b[0m\n\u001b[1;32m    260\u001b[0m \u001b[38;5;250m\u001b[39m\u001b[38;5;124;03m\"\"\"Return data from the \"End of Central Directory\" record, or None.\u001b[39;00m\n\u001b[1;32m    261\u001b[0m \n\u001b[1;32m    262\u001b[0m \u001b[38;5;124;03mThe data is a list of the nine items in the ZIP \"End of central dir\"\u001b[39;00m\n\u001b[1;32m    263\u001b[0m \u001b[38;5;124;03mrecord followed by a tenth item, the file seek offset of this record.\"\"\"\u001b[39;00m\n\u001b[1;32m    265\u001b[0m \u001b[38;5;66;03m# Determine file size\u001b[39;00m\n\u001b[0;32m--> 266\u001b[0m \u001b[43mfpin\u001b[49m\u001b[38;5;241;43m.\u001b[39;49m\u001b[43mseek\u001b[49m(\u001b[38;5;241m0\u001b[39m, \u001b[38;5;241m2\u001b[39m)\n\u001b[1;32m    267\u001b[0m filesize \u001b[38;5;241m=\u001b[39m fpin\u001b[38;5;241m.\u001b[39mtell()\n\u001b[1;32m    269\u001b[0m \u001b[38;5;66;03m# Check to see if this is ZIP file with no archive comment (the\u001b[39;00m\n\u001b[1;32m    270\u001b[0m \u001b[38;5;66;03m# \"end of central directory\" structure should be the last item in the\u001b[39;00m\n\u001b[1;32m    271\u001b[0m \u001b[38;5;66;03m# file if this is the case).\u001b[39;00m\n",
      "\u001b[0;31mAttributeError\u001b[0m: 'bytes' object has no attribute 'seek'"
     ]
    }
   ],
   "source": [
    "data = Data()\n",
    "data.Download()"
   ]
  }
 ],
 "metadata": {
  "kernelspec": {
   "display_name": "ad_pylibs",
   "language": "python",
   "name": "python3"
  },
  "language_info": {
   "codemirror_mode": {
    "name": "ipython",
    "version": 3
   },
   "file_extension": ".py",
   "mimetype": "text/x-python",
   "name": "python",
   "nbconvert_exporter": "python",
   "pygments_lexer": "ipython3",
   "version": "3.10.12"
  }
 },
 "nbformat": 4,
 "nbformat_minor": 2
}
